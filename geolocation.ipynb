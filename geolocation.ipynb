{
 "cells": [
  {
   "cell_type": "code",
   "execution_count": 1,
   "id": "8037d164-478c-4d82-a17d-d22f3efbc621",
   "metadata": {},
   "outputs": [
    {
     "name": "stdout",
     "output_type": "stream",
     "text": [
      "IP Address: 117.231.192.121\n",
      "City: Visakhapatnam\n",
      "Region: Andhra Pradesh\n",
      "Country: IN\n",
      "Location (Latitude, Longitude): 17.6801,83.2016\n"
     ]
    }
   ],
   "source": [
    " import requests\n",
    "\n",
    "\n",
    "def get_geolocation(ip_address):\n",
    "    #my system's access token\n",
    "    access_token = '5d86a7fc672433'\n",
    "    url = f\"https://ipinfo.io/{ip_address}?token={access_token}\"\n",
    "    \n",
    "    response = requests.get(url)\n",
    "    if response.status_code == 200:\n",
    "        data = response.json()\n",
    "        location = data.get(\"loc\", \"\")\n",
    "        city = data.get(\"city\", \"Unknown\")\n",
    "        region = data.get(\"region\", \"Unknown\")\n",
    "        country = data.get(\"country\", \"Unknown\")\n",
    "        return {\n",
    "            \"ip\": ip_address,\n",
    "            \"city\": city,\n",
    "            \"region\": region,\n",
    "            \"country\": country,\n",
    "            \"location\": location\n",
    "        }\n",
    "    else:\n",
    "        return None\n",
    "\n",
    "#117.231.192.121 my system's ip address\n",
    "ip_address = \"117.231.192.121\"  # Example IP address\n",
    "geolocation = get_geolocation(ip_address)\n",
    "if geolocation:\n",
    "    print(f\"IP Address: {geolocation['ip']}\")\n",
    "    print(f\"City: {geolocation['city']}\")\n",
    "    print(f\"Region: {geolocation['region']}\")\n",
    "    print(f\"Country: {geolocation['country']}\")\n",
    "    print(f\"Location (Latitude, Longitude): {geolocation['location']}\")\n",
    "else:\n",
    "    print(\"Failed to fetch geolocation data.\")"
   ]
  },
  {
   "cell_type": "code",
   "execution_count": 2,
   "id": "7c1f62fe-9260-403c-bf1a-98bdb7433644",
   "metadata": {},
   "outputs": [],
   "source": [
    "import folium\n",
    "\n",
    "# Example: Use the coordinates from the IP info\n",
    "lat, lon = map(float, geolocation[\"location\"].split(\",\"))\n",
    "mymap = folium.Map(location=[lat, lon], zoom_start=12)\n",
    "folium.Marker([lat, lon], popup=f\"{geolocation['city']}, {geolocation['region']}, {geolocation['country']}\").add_to(mymap)\n",
    "\n",
    "# Save map to an HTML file\n",
    "mymap.save(\"geolocation_map.html\")"
   ]
  },
  {
   "cell_type": "code",
   "execution_count": null,
   "id": "de0fc9d9-0060-49c0-95f4-e206799af382",
   "metadata": {},
   "outputs": [],
   "source": []
  }
 ],
 "metadata": {
  "kernelspec": {
   "display_name": "Python 3 (ipykernel)",
   "language": "python",
   "name": "python3"
  },
  "language_info": {
   "codemirror_mode": {
    "name": "ipython",
    "version": 3
   },
   "file_extension": ".py",
   "mimetype": "text/x-python",
   "name": "python",
   "nbconvert_exporter": "python",
   "pygments_lexer": "ipython3",
   "version": "3.12.6"
  }
 },
 "nbformat": 4,
 "nbformat_minor": 5
}
